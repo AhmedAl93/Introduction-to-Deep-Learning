{
 "cells": [
  {
   "cell_type": "code",
   "execution_count": 4,
   "metadata": {},
   "outputs": [
    {
     "name": "stdout",
     "output_type": "stream",
     "text": [
      "_________________________________________________________________\n",
      "Layer (type)                 Output Shape              Param #   \n",
      "=================================================================\n",
      "fc1 (Dense)                  (None, 10)                7850      \n",
      "_________________________________________________________________\n",
      "activation_2 (Activation)    (None, 10)                0         \n",
      "=================================================================\n",
      "Total params: 7,850\n",
      "Trainable params: 7,850\n",
      "Non-trainable params: 0\n",
      "_________________________________________________________________\n"
     ]
    }
   ],
   "source": [
    "from keras.models import Sequential\n",
    "model = Sequential()\n",
    "from keras.layers import Dense, Activation\n",
    "model.add(Dense(10,  input_dim=784, name='fc1'))\n",
    "model.add(Activation('softmax'))\n",
    "model.summary()"
   ]
  },
  {
   "cell_type": "code",
   "execution_count": 10,
   "metadata": {},
   "outputs": [
    {
     "name": "stdout",
     "output_type": "stream",
     "text": [
      "Epoch 1/10\n",
      "60000/60000 [==============================] - 1s 14us/step - loss: 0.2435 - acc: 0.9331\n",
      "Epoch 2/10\n",
      "60000/60000 [==============================] - 1s 11us/step - loss: 0.2435 - acc: 0.9330\n",
      "Epoch 3/10\n",
      "60000/60000 [==============================] - 1s 11us/step - loss: 0.2430 - acc: 0.9330\n",
      "Epoch 4/10\n",
      "60000/60000 [==============================] - 1s 11us/step - loss: 0.2434 - acc: 0.9336\n",
      "Epoch 5/10\n",
      "60000/60000 [==============================] - 1s 11us/step - loss: 0.2432 - acc: 0.9327\n",
      "Epoch 6/10\n",
      "60000/60000 [==============================] - 1s 11us/step - loss: 0.2428 - acc: 0.9328\n",
      "Epoch 7/10\n",
      "60000/60000 [==============================] - 1s 11us/step - loss: 0.2427 - acc: 0.9337\n",
      "Epoch 8/10\n",
      "60000/60000 [==============================] - 1s 11us/step - loss: 0.2424 - acc: 0.9330\n",
      "Epoch 9/10\n",
      "60000/60000 [==============================] - 1s 11us/step - loss: 0.2422 - acc: 0.9331\n",
      "Epoch 10/10\n",
      "60000/60000 [==============================] - 1s 11us/step - loss: 0.2422 - acc: 0.9335\n",
      "loss: 26.59%\n",
      "acc: 92.54%\n"
     ]
    }
   ],
   "source": [
    "##############  Exercice 1 ########################\n",
    "\n",
    "from keras.optimizers import SGD\n",
    "import keras.utils as np_utils\n",
    "from keras.datasets import mnist\n",
    "\n",
    "(X_train, y_train), (X_test, y_test) = mnist.load_data()\n",
    "X_train = X_train.reshape(60000, 784)\n",
    "X_test = X_test.reshape(10000, 784)\n",
    "X_train = X_train.astype('float32')\n",
    "X_test = X_test.astype('float32')\n",
    "X_train /= 255\n",
    "X_test /= 255\n",
    "\n",
    "learning_rate = 0.5\n",
    "sgd = SGD(learning_rate)\n",
    "model.compile(loss='categorical_crossentropy',optimizer=sgd,metrics=['accuracy'])\n",
    "batch_size = 500\n",
    "nb_epoch = 10\n",
    "# convert class vectors to binary class matrices\n",
    "\n",
    "Y_train = np_utils.to_categorical(y_train, 10)\n",
    "Y_test = np_utils.to_categorical(y_test, 10)\n",
    "model.fit(X_train, Y_train,batch_size=batch_size, epochs=nb_epoch,verbose=1)\n",
    "scores = model.evaluate(X_test, Y_test, verbose=0)\n",
    "print(\"%s: %.2f%%\" % (model.metrics_names[0], scores[0]*100))\n",
    "print(\"%s: %.2f%%\" % (model.metrics_names[1], scores[1]*100))"
   ]
  },
  {
   "cell_type": "code",
   "execution_count": 17,
   "metadata": {},
   "outputs": [
    {
     "name": "stdout",
     "output_type": "stream",
     "text": [
      "_________________________________________________________________\n",
      "Layer (type)                 Output Shape              Param #   \n",
      "=================================================================\n",
      "fc1 (Dense)                  (None, 100)               78500     \n",
      "_________________________________________________________________\n",
      "activation_5 (Activation)    (None, 100)               0         \n",
      "_________________________________________________________________\n",
      "fc1 (Dense)                  (None, 10)                1010      \n",
      "_________________________________________________________________\n",
      "activation_6 (Activation)    (None, 10)                0         \n",
      "=================================================================\n",
      "Total params: 79,510\n",
      "Trainable params: 79,510\n",
      "Non-trainable params: 0\n",
      "_________________________________________________________________\n"
     ]
    }
   ],
   "source": [
    "#######\"#  exercice 2 ##############################\n",
    "model = Sequential()\n",
    "model.add(Dense(100,  input_dim=784, name='fc1'))\n",
    "model.add(Activation('sigmoid'))\n",
    "model.add(Dense(10,  input_dim=784, name='fc1'))\n",
    "model.add(Activation('softmax'))\n",
    "#model.summary()"
   ]
  },
  {
   "cell_type": "code",
   "execution_count": 13,
   "metadata": {},
   "outputs": [
    {
     "name": "stdout",
     "output_type": "stream",
     "text": [
      "Epoch 1/10\n",
      "60000/60000 [==============================] - 2s 26us/step - loss: 0.8989 - acc: 0.7946\n",
      "Epoch 2/10\n",
      "60000/60000 [==============================] - 1s 21us/step - loss: 0.4092 - acc: 0.8902\n",
      "Epoch 3/10\n",
      "60000/60000 [==============================] - 1s 21us/step - loss: 0.3441 - acc: 0.9035\n",
      "Epoch 4/10\n",
      "60000/60000 [==============================] - 1s 22us/step - loss: 0.3132 - acc: 0.9113\n",
      "Epoch 5/10\n",
      "60000/60000 [==============================] - 1s 21us/step - loss: 0.2926 - acc: 0.9164\n",
      "Epoch 6/10\n",
      "60000/60000 [==============================] - 1s 22us/step - loss: 0.2766 - acc: 0.9203\n",
      "Epoch 7/10\n",
      "60000/60000 [==============================] - 1s 23us/step - loss: 0.2630 - acc: 0.9245\n",
      "Epoch 8/10\n",
      "60000/60000 [==============================] - 1s 21us/step - loss: 0.2511 - acc: 0.9281\n",
      "Epoch 9/10\n",
      "60000/60000 [==============================] - 1s 20us/step - loss: 0.2405 - acc: 0.9312\n",
      "Epoch 10/10\n",
      "60000/60000 [==============================] - 1s 23us/step - loss: 0.2304 - acc: 0.9338\n",
      "loss: 22.21%\n",
      "acc: 93.70%\n",
      "Yaml Model  Perceptron .yaml saved to disk\n",
      "Weights  Perceptron .h5 saved to disk\n"
     ]
    }
   ],
   "source": [
    "#######\"#  exercice 2   SUITE ##############################\n",
    "import h5py\n",
    "model = Sequential()\n",
    "model.add(Dense(100,  input_dim=784, name='fc1'))\n",
    "model.add(Activation('sigmoid'))\n",
    "sgd = SGD(learning_rate)\n",
    "#model.compile(loss='categorical_crossentropy',optimizer=sgd,metrics=['accuracy'])\n",
    "\n",
    "model.add(Dense(10,  input_dim=784, name='fc2'))\n",
    "model.add(Activation('softmax'))\n",
    "learning_rate = 0.3\n",
    "sgd = SGD(learning_rate)\n",
    "model.compile(loss='categorical_crossentropy',optimizer=sgd,metrics=['accuracy'])\n",
    "\n",
    "batch_size = 300\n",
    "nb_epoch = 10\n",
    "# convert class vectors to binary class matrices\n",
    "Y_train = np_utils.to_categorical(y_train, 10)\n",
    "Y_test = np_utils.to_categorical(y_test, 10)\n",
    "model.fit(X_train, Y_train,batch_size=batch_size, epochs=nb_epoch,verbose=1)\n",
    "scores = model.evaluate(X_test, Y_test, verbose=0)\n",
    "print(\"%s: %.2f%%\" % (model.metrics_names[0], scores[0]*100))\n",
    "print(\"%s: %.2f%%\" % (model.metrics_names[1], scores[1]*100))\n",
    "from keras.models import model_from_yaml\n",
    "def saveModel(model, savename):\n",
    "  # serialize model to YAML\n",
    "    model_yaml = model.to_yaml()\n",
    "    with open(savename+\".yaml\", \"w\") as yaml_file:\n",
    "        yaml_file.write(model_yaml)\n",
    "    print(\"Yaml Model \",savename,\".yaml saved to disk\")\n",
    "  # serialize weights to HDF5\n",
    "    model.save_weights(savename+\".h5\")\n",
    "    print(\"Weights \",savename,\".h5 saved to disk\")\n",
    "saveModel(model, \"Perceptron\")"
   ]
  },
  {
   "cell_type": "code",
   "execution_count": 14,
   "metadata": {},
   "outputs": [
    {
     "name": "stdout",
     "output_type": "stream",
     "text": [
      "loss: 244.40%\n",
      "acc: 10.09%\n"
     ]
    }
   ],
   "source": [
    "#######\"#  exercice 3 ##############################\n",
    "x_train=X_train\n",
    "x_test=X_test\n",
    "x_train = x_train.reshape(x_train.shape[0], 28, 28, 1)\n",
    "x_test = x_test.reshape(x_test.shape[0], 28, 28, 1)\n",
    "input_shape = (28, 28, 1)\n",
    "\n",
    "from keras.models import Sequential\n",
    "from keras.layers import Dense, Flatten\n",
    "from keras.layers import Conv2D, MaxPooling2D\n",
    "model = Sequential()\n",
    "model.add(Conv2D(32,kernel_size=(5, 5),activation='sigmoid',input_shape=(28, 28, 1),padding='same'))\n",
    "pool = MaxPooling2D(pool_size=(2, 2))\n",
    "\n",
    "model.add(Conv2D(64,kernel_size=(5, 5),activation='sigmoid',input_shape=(28, 28, 1),padding='same'))\n",
    "pool = MaxPooling2D(pool_size=(2, 2))\n",
    "\n",
    "model.add(Flatten())\n",
    "\n",
    "model.add(Dense(100,  input_dim=784, name='fc1'))\n",
    "model.add(Activation('sigmoid'))\n",
    "sgd = SGD(learning_rate)\n",
    "#model.compile(loss='categorical_crossentropy',optimizer=sgd,metrics=['accuracy'])\n",
    "\n",
    "model.add(Dense(10,  input_dim=784, name='fc2'))\n",
    "model.add(Activation('softmax'))\n",
    "learning_rate = 0.5\n",
    "sgd = SGD(learning_rate)\n",
    "model.compile(loss='categorical_crossentropy',optimizer=sgd,metrics=['accuracy'])\n",
    "scores = model.evaluate(x_test, Y_test, verbose=0)\n",
    "print(\"%s: %.2f%%\" % (model.metrics_names[0], scores[0]*100))\n",
    "print(\"%s: %.2f%%\" % (model.metrics_names[1], scores[1]*100))\n"
   ]
  },
  {
   "cell_type": "code",
   "execution_count": null,
   "metadata": {},
   "outputs": [],
   "source": []
  }
 ],
 "metadata": {
  "kernelspec": {
   "display_name": "Python 2",
   "language": "python",
   "name": "python2"
  },
  "language_info": {
   "codemirror_mode": {
    "name": "ipython",
    "version": 2
   },
   "file_extension": ".py",
   "mimetype": "text/x-python",
   "name": "python",
   "nbconvert_exporter": "python",
   "pygments_lexer": "ipython2",
   "version": "2.7.14"
  }
 },
 "nbformat": 4,
 "nbformat_minor": 2
}
